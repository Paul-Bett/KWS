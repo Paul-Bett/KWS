{
  "nbformat": 4,
  "nbformat_minor": 0,
  "metadata": {
    "colab": {
      "provenance": [],
      "gpuType": "T4"
    },
    "kernelspec": {
      "name": "python3",
      "display_name": "Python 3"
    },
    "language_info": {
      "name": "python"
    },
    "accelerator": "GPU"
  },
  "cells": [
    {
      "cell_type": "markdown",
      "source": [
        "Install Dependencies"
      ],
      "metadata": {
        "id": "ZVLdJOX9VmWN"
      }
    },
    {
      "cell_type": "code",
      "source": [
        "!pip install librosa soundfile scikit-learn\n"
      ],
      "metadata": {
        "id": "MfKoAayPVn8G"
      },
      "execution_count": null,
      "outputs": []
    },
    {
      "cell_type": "markdown",
      "source": [
        "1. Setup & Imports"
      ],
      "metadata": {
        "id": "Xmq8ktxR1d9f"
      }
    },
    {
      "cell_type": "code",
      "source": [
        "import os\n",
        "import csv\n",
        "import librosa\n",
        "import numpy as np\n",
        "import tensorflow as tf\n",
        "from tensorflow.keras import layers, models\n",
        "from sklearn.model_selection import train_test_split\n",
        "from tensorflow.keras.utils import to_categorical\n",
        "from tqdm import tqdm\n",
        "import pandas as pd\n"
      ],
      "metadata": {
        "id": "aHvIVf604MkW"
      },
      "execution_count": null,
      "outputs": []
    },
    {
      "cell_type": "markdown",
      "source": [
        "2. Download and Extract Dataset"
      ],
      "metadata": {
        "id": "7654KyK-1j7M"
      }
    },
    {
      "cell_type": "code",
      "source": [
        "\n",
        "# Dataset download details\n",
        "dataset_url = \"http://download.tensorflow.org/data/speech_commands_v0.02.tar.gz\"\n",
        "dataset_tar = \"speech_commands_v0.02.tar.gz\"\n",
        "extract_path = \"speech_commands\"\n",
        "\n",
        "# Download if not already downloaded\n",
        "if not os.path.exists(dataset_tar):\n",
        "    print(\"Downloading dataset...\")\n",
        "    urllib.request.urlretrieve(dataset_url, dataset_tar)\n",
        "    print(\"Download complete.\")\n",
        "\n",
        "# Extract if not already extracted\n",
        "if not os.path.exists(extract_path):\n",
        "    print(\"Extracting dataset...\")\n",
        "    with tarfile.open(dataset_tar, 'r:gz') as tar:\n",
        "        tar.extractall(extract_path)\n",
        "    print(\"Extraction complete.\")\n"
      ],
      "metadata": {
        "colab": {
          "base_uri": "https://localhost:8080/"
        },
        "id": "8NkmwTSr0vgV",
        "outputId": "765d3c9f-e5b8-476b-9a30-2495162a2cee"
      },
      "execution_count": 6,
      "outputs": [
        {
          "output_type": "stream",
          "name": "stdout",
          "text": [
            "Downloading dataset...\n",
            "Download complete.\n",
            "Extracting dataset...\n",
            "Extraction complete.\n"
          ]
        }
      ]
    },
    {
      "cell_type": "markdown",
      "source": [
        "3. Prepare Keyword List and Dataset"
      ],
      "metadata": {
        "id": "0PmU4S0L1oyd"
      }
    },
    {
      "cell_type": "code",
      "source": [
        "keywords = ['yes', 'no', 'up', 'down', 'left', 'right', 'on', 'off', 'stop', 'go']\n",
        "output_dir = 'splits'\n",
        "os.makedirs(output_dir, exist_ok=True)\n",
        "\n",
        "# Gather all labeled .wav files\n",
        "all_samples = []\n",
        "for word in keywords:\n",
        "    class_path = os.path.join(extract_path, word)\n",
        "    files = [f for f in os.listdir(class_path) if f.endswith('.wav')]\n",
        "    all_samples.extend([(os.path.join(class_path, f), word) for f in files])\n",
        "\n",
        "# Split\n",
        "train_set, temp_set = train_test_split(all_samples, test_size=0.2, stratify=[lbl for _, lbl in all_samples], random_state=42)\n",
        "val_set, test_set = train_test_split(temp_set, test_size=0.5, stratify=[lbl for _, lbl in temp_set], random_state=42)\n",
        "\n",
        "# Save to CSV\n",
        "def write_csv(data, filename):\n",
        "    with open(os.path.join(output_dir, filename), 'w', newline='') as f:\n",
        "        writer = csv.writer(f)\n",
        "        writer.writerow(['filepath', 'label'])\n",
        "        writer.writerows(data)\n",
        "\n",
        "write_csv(train_set, 'train.csv')\n",
        "write_csv(val_set, 'val.csv')\n",
        "write_csv(test_set, 'test.csv')\n",
        "\n",
        "print(f\"Train: {len(train_set)}, Val: {len(val_set)}, Test: {len(test_set)}\")\n"
      ],
      "metadata": {
        "colab": {
          "base_uri": "https://localhost:8080/"
        },
        "id": "fbI7-zeJ1Pvx",
        "outputId": "ea0f86ed-99c2-414d-a205-3f24dfcf79da"
      },
      "execution_count": 19,
      "outputs": [
        {
          "output_type": "stream",
          "name": "stdout",
          "text": [
            "Train: 30836, Val: 3855, Test: 3855\n"
          ]
        }
      ]
    },
    {
      "cell_type": "markdown",
      "source": [
        "4. Feature Extraction"
      ],
      "metadata": {
        "id": "CfpDDhwT1tr5"
      }
    },
    {
      "cell_type": "code",
      "source": [
        "keywords = ['yes', 'no', 'up', 'down', 'left', 'right', 'on', 'off', 'stop', 'go']\n",
        "label_map = {label: idx for idx, label in enumerate(keywords)}\n",
        "\n",
        "def extract_features(path, sr=16000, feature_type='mfcc', win_ms=25, overlap_perc=0.5):\n",
        "    y, sr = librosa.load(path, sr=sr)\n",
        "    win_len = int(sr * win_ms / 1000)\n",
        "    hop_len = int(win_len * (1 - overlap_perc))\n",
        "\n",
        "    if feature_type == 'mfcc':\n",
        "        features = librosa.feature.mfcc(y=y, sr=sr, n_mfcc=13, n_fft=win_len, hop_length=hop_len)\n",
        "    elif feature_type == 'mel':\n",
        "        mel = librosa.feature.melspectrogram(y=y, sr=sr, n_fft=win_len, hop_length=hop_len)\n",
        "        features = librosa.power_to_db(mel, ref=np.max)\n",
        "    else:\n",
        "        raise ValueError(\"Unknown feature type\")\n",
        "\n",
        "    return features\n",
        "\n",
        "def load_split(csv_path, feature_type='mfcc', win_ms=25, overlap=0.5, max_frames=100):\n",
        "    X, y = [], []\n",
        "    with open(csv_path, 'r') as f:\n",
        "        reader = csv.DictReader(f)\n",
        "        for row in reader:\n",
        "            try:\n",
        "                features = extract_features(row['filepath'], feature_type=feature_type, win_ms=win_ms, overlap_perc=overlap)\n",
        "                if features.shape[1] > max_frames:\n",
        "                    features = features[:, :max_frames]  # Truncate\n",
        "                elif features.shape[1] < max_frames:\n",
        "                    pad_width = max_frames - features.shape[1]\n",
        "                    features = np.pad(features, ((0, 0), (0, pad_width)), mode='constant')  # Pad time axis\n",
        "\n",
        "                X.append(features)\n",
        "                y.append(label_map[row['label']])\n",
        "            except Exception as e:\n",
        "                print(f\"Skipping {row['filepath']} due to error: {e}\")\n",
        "                continue\n",
        "\n",
        "    X = np.array(X, dtype='float32')\n",
        "    y = to_categorical(y, num_classes=len(keywords))\n",
        "    return np.expand_dims(X, -1), y"
      ],
      "metadata": {
        "id": "v28-R4hy4SuC"
      },
      "execution_count": 20,
      "outputs": []
    },
    {
      "cell_type": "markdown",
      "source": [
        "5. Define CNN Model, Train and Evaluate"
      ],
      "metadata": {
        "id": "0pMZNDtcWmdt"
      }
    },
    {
      "cell_type": "code",
      "source": [
        "def build_model(input_shape):\n",
        "    model = models.Sequential([\n",
        "        layers.Conv2D(32, (3,3), activation='relu', input_shape=input_shape),\n",
        "        layers.MaxPooling2D((2,2)),\n",
        "        layers.Conv2D(64, (3,3), activation='relu'),\n",
        "        layers.MaxPooling2D((2,2)),\n",
        "        layers.Flatten(),\n",
        "        layers.Dense(128, activation='relu'),\n",
        "        layers.Dense(len(keywords), activation='softmax')\n",
        "    ])\n",
        "    model.compile(optimizer='adam', loss='categorical_crossentropy', metrics=['accuracy'])\n",
        "    return model\n",
        "\n",
        "def train_and_evaluate(feature_type, win_ms, overlap):\n",
        "    print(f\"\\nTraining with {feature_type}, window {win_ms}ms, overlap {int(overlap * 100)}%\")\n",
        "    X_train, y_train = load_split('splits/train.csv', feature_type, win_ms, overlap)\n",
        "    X_val, y_val = load_split('splits/val.csv', feature_type, win_ms, overlap)\n",
        "    X_test, y_test = load_split('splits/test.csv', feature_type, win_ms, overlap)\n",
        "\n",
        "    model = build_model(X_train.shape[1:])\n",
        "    model.fit(X_train, y_train, epochs=5, batch_size=32, validation_data=(X_val, y_val), verbose=0)\n",
        "    _, test_acc = model.evaluate(X_test, y_test, verbose=0)\n",
        "\n",
        "    print(f\"Test Accuracy: {test_acc:.3f}\")\n",
        "    return test_acc\n"
      ],
      "metadata": {
        "id": "Mv0vrI0X4WcY"
      },
      "execution_count": 21,
      "outputs": []
    },
    {
      "cell_type": "markdown",
      "source": [
        "6. Run Experiments with Varying Parameters"
      ],
      "metadata": {
        "id": "C_KXVF_aWzFp"
      }
    },
    {
      "cell_type": "code",
      "source": [
        "# Define feature types and parameter ranges\n",
        "feature_types = ['mfcc', 'mel']\n",
        "window_sizes = list(range(10, 101, 10))  # 10ms to 100ms\n",
        "overlap_percs = [0.0, 0.25, 0.5, 0.75]\n",
        "min_win_ms = 10\n",
        "\n",
        "results = []\n",
        "\n",
        "for ft in feature_types:\n",
        "    for win in window_sizes:\n",
        "        if win < min_win_ms:\n",
        "            continue\n",
        "        for ovlp in overlap_percs:\n",
        "            print(f\"Running: Feature={ft}, Window={win}ms, Overlap={int(ovlp * 100)}%\")\n",
        "            try:\n",
        "                acc = train_and_evaluate(ft, win_ms=win, overlap=ovlp)\n",
        "                results.append({\n",
        "                    'feature': ft,\n",
        "                    'window_ms': win,\n",
        "                    'overlap': int(ovlp * 100),\n",
        "                    'accuracy': round(acc, 4)\n",
        "                })\n",
        "            except Exception as e:\n",
        "                print(f\"Error with {ft}, win={win}, overlap={ovlp}: {e}\")\n"
      ],
      "metadata": {
        "colab": {
          "base_uri": "https://localhost:8080/"
        },
        "id": "Z16DRr884ZqI",
        "outputId": "b34f42d5-408d-4b47-bd4d-a3068f1ab908"
      },
      "execution_count": null,
      "outputs": [
        {
          "output_type": "stream",
          "name": "stdout",
          "text": [
            "Running: Feature=mfcc, Window=10ms, Overlap=0%\n",
            "\n",
            "Training with mfcc, window 10ms, overlap 0%\n"
          ]
        },
        {
          "output_type": "stream",
          "name": "stderr",
          "text": [
            "/usr/local/lib/python3.11/dist-packages/librosa/feature/spectral.py:2148: UserWarning: Empty filters detected in mel frequency basis. Some channels will produce empty responses. Try increasing your sampling rate (and fmax) or reducing n_mels.\n",
            "  mel_basis = filters.mel(sr=sr, n_fft=n_fft, **kwargs)\n",
            "/usr/local/lib/python3.11/dist-packages/keras/src/layers/convolutional/base_conv.py:107: UserWarning: Do not pass an `input_shape`/`input_dim` argument to a layer. When using Sequential models, prefer using an `Input(shape)` object as the first layer in the model instead.\n",
            "  super().__init__(activity_regularizer=activity_regularizer, **kwargs)\n"
          ]
        },
        {
          "output_type": "stream",
          "name": "stdout",
          "text": [
            "Test Accuracy: 0.827\n",
            "Running: Feature=mfcc, Window=10ms, Overlap=25%\n",
            "\n",
            "Training with mfcc, window 10ms, overlap 25%\n",
            "Test Accuracy: 0.755\n",
            "Running: Feature=mfcc, Window=10ms, Overlap=50%\n",
            "\n",
            "Training with mfcc, window 10ms, overlap 50%\n",
            "Test Accuracy: 0.619\n",
            "Running: Feature=mfcc, Window=10ms, Overlap=75%\n",
            "\n",
            "Training with mfcc, window 10ms, overlap 75%\n",
            "Test Accuracy: 0.282\n",
            "Running: Feature=mfcc, Window=20ms, Overlap=0%\n",
            "\n",
            "Training with mfcc, window 20ms, overlap 0%\n",
            "Test Accuracy: 0.859\n",
            "Running: Feature=mfcc, Window=20ms, Overlap=25%\n",
            "\n",
            "Training with mfcc, window 20ms, overlap 25%\n",
            "Test Accuracy: 0.867\n",
            "Running: Feature=mfcc, Window=20ms, Overlap=50%\n",
            "\n",
            "Training with mfcc, window 20ms, overlap 50%\n",
            "Test Accuracy: 0.832\n",
            "Running: Feature=mfcc, Window=20ms, Overlap=75%\n",
            "\n",
            "Training with mfcc, window 20ms, overlap 75%\n",
            "Test Accuracy: 0.627\n",
            "Running: Feature=mfcc, Window=30ms, Overlap=0%\n",
            "\n",
            "Training with mfcc, window 30ms, overlap 0%\n",
            "Test Accuracy: 0.874\n",
            "Running: Feature=mfcc, Window=30ms, Overlap=25%\n",
            "\n",
            "Training with mfcc, window 30ms, overlap 25%\n",
            "Test Accuracy: 0.882\n",
            "Running: Feature=mfcc, Window=30ms, Overlap=50%\n",
            "\n",
            "Training with mfcc, window 30ms, overlap 50%\n",
            "Test Accuracy: 0.864\n",
            "Running: Feature=mfcc, Window=30ms, Overlap=75%\n",
            "\n",
            "Training with mfcc, window 30ms, overlap 75%\n",
            "Test Accuracy: 0.813\n",
            "Running: Feature=mfcc, Window=40ms, Overlap=0%\n",
            "\n",
            "Training with mfcc, window 40ms, overlap 0%\n",
            "Test Accuracy: 0.878\n",
            "Running: Feature=mfcc, Window=40ms, Overlap=25%\n",
            "\n",
            "Training with mfcc, window 40ms, overlap 25%\n",
            "Test Accuracy: 0.882\n",
            "Running: Feature=mfcc, Window=40ms, Overlap=50%\n",
            "\n",
            "Training with mfcc, window 40ms, overlap 50%\n",
            "Test Accuracy: 0.872\n",
            "Running: Feature=mfcc, Window=40ms, Overlap=75%\n",
            "\n",
            "Training with mfcc, window 40ms, overlap 75%\n",
            "Test Accuracy: 0.827\n",
            "Running: Feature=mfcc, Window=50ms, Overlap=0%\n",
            "\n",
            "Training with mfcc, window 50ms, overlap 0%\n",
            "Test Accuracy: 0.864\n",
            "Running: Feature=mfcc, Window=50ms, Overlap=25%\n",
            "\n",
            "Training with mfcc, window 50ms, overlap 25%\n",
            "Test Accuracy: 0.877\n",
            "Running: Feature=mfcc, Window=50ms, Overlap=50%\n",
            "\n",
            "Training with mfcc, window 50ms, overlap 50%\n",
            "Test Accuracy: 0.875\n",
            "Running: Feature=mfcc, Window=50ms, Overlap=75%\n",
            "\n",
            "Training with mfcc, window 50ms, overlap 75%\n",
            "Test Accuracy: 0.853\n",
            "Running: Feature=mfcc, Window=60ms, Overlap=0%\n",
            "\n",
            "Training with mfcc, window 60ms, overlap 0%\n",
            "Test Accuracy: 0.862\n",
            "Running: Feature=mfcc, Window=60ms, Overlap=25%\n",
            "\n",
            "Training with mfcc, window 60ms, overlap 25%\n",
            "Test Accuracy: 0.885\n",
            "Running: Feature=mfcc, Window=60ms, Overlap=50%\n",
            "\n",
            "Training with mfcc, window 60ms, overlap 50%\n",
            "Test Accuracy: 0.889\n",
            "Running: Feature=mfcc, Window=60ms, Overlap=75%\n",
            "\n",
            "Training with mfcc, window 60ms, overlap 75%\n",
            "Test Accuracy: 0.865\n",
            "Running: Feature=mfcc, Window=70ms, Overlap=0%\n",
            "\n",
            "Training with mfcc, window 70ms, overlap 0%\n",
            "Test Accuracy: 0.863\n",
            "Running: Feature=mfcc, Window=70ms, Overlap=25%\n",
            "\n",
            "Training with mfcc, window 70ms, overlap 25%\n",
            "Test Accuracy: 0.882\n",
            "Running: Feature=mfcc, Window=70ms, Overlap=50%\n",
            "\n",
            "Training with mfcc, window 70ms, overlap 50%\n",
            "Test Accuracy: 0.870\n",
            "Running: Feature=mfcc, Window=70ms, Overlap=75%\n",
            "\n",
            "Training with mfcc, window 70ms, overlap 75%\n",
            "Test Accuracy: 0.863\n",
            "Running: Feature=mfcc, Window=80ms, Overlap=0%\n",
            "\n",
            "Training with mfcc, window 80ms, overlap 0%\n",
            "Test Accuracy: 0.847\n",
            "Running: Feature=mfcc, Window=80ms, Overlap=25%\n",
            "\n",
            "Training with mfcc, window 80ms, overlap 25%\n",
            "Test Accuracy: 0.855\n",
            "Running: Feature=mfcc, Window=80ms, Overlap=50%\n",
            "\n",
            "Training with mfcc, window 80ms, overlap 50%\n",
            "Test Accuracy: 0.891\n",
            "Running: Feature=mfcc, Window=80ms, Overlap=75%\n",
            "\n",
            "Training with mfcc, window 80ms, overlap 75%\n",
            "Test Accuracy: 0.883\n",
            "Running: Feature=mfcc, Window=90ms, Overlap=0%\n",
            "\n",
            "Training with mfcc, window 90ms, overlap 0%\n",
            "Test Accuracy: 0.837\n",
            "Running: Feature=mfcc, Window=90ms, Overlap=25%\n",
            "\n",
            "Training with mfcc, window 90ms, overlap 25%\n",
            "Test Accuracy: 0.857\n",
            "Running: Feature=mfcc, Window=90ms, Overlap=50%\n",
            "\n",
            "Training with mfcc, window 90ms, overlap 50%\n",
            "Test Accuracy: 0.883\n",
            "Running: Feature=mfcc, Window=90ms, Overlap=75%\n",
            "\n",
            "Training with mfcc, window 90ms, overlap 75%\n",
            "Test Accuracy: 0.881\n",
            "Running: Feature=mfcc, Window=100ms, Overlap=0%\n",
            "\n",
            "Training with mfcc, window 100ms, overlap 0%\n",
            "Test Accuracy: 0.819\n",
            "Running: Feature=mfcc, Window=100ms, Overlap=25%\n",
            "\n",
            "Training with mfcc, window 100ms, overlap 25%\n",
            "Test Accuracy: 0.871\n",
            "Running: Feature=mfcc, Window=100ms, Overlap=50%\n",
            "\n",
            "Training with mfcc, window 100ms, overlap 50%\n",
            "Test Accuracy: 0.883\n",
            "Running: Feature=mfcc, Window=100ms, Overlap=75%\n",
            "\n",
            "Training with mfcc, window 100ms, overlap 75%\n",
            "Test Accuracy: 0.852\n",
            "Running: Feature=mel, Window=10ms, Overlap=0%\n",
            "\n",
            "Training with mel, window 10ms, overlap 0%\n",
            "Test Accuracy: 0.811\n",
            "Running: Feature=mel, Window=10ms, Overlap=25%\n",
            "\n",
            "Training with mel, window 10ms, overlap 25%\n",
            "Test Accuracy: 0.813\n",
            "Running: Feature=mel, Window=10ms, Overlap=50%\n",
            "\n",
            "Training with mel, window 10ms, overlap 50%\n",
            "Test Accuracy: 0.647\n",
            "Running: Feature=mel, Window=10ms, Overlap=75%\n",
            "\n",
            "Training with mel, window 10ms, overlap 75%\n"
          ]
        }
      ]
    },
    {
      "cell_type": "markdown",
      "source": [
        "7.  Display Results as DataFrame"
      ],
      "metadata": {
        "id": "tJxXH7w4W_Zr"
      }
    },
    {
      "cell_type": "code",
      "source": [
        "df_results = pd.DataFrame(results)\n",
        "df_results = df_results.sort_values(by='accuracy', ascending=False)\n",
        "df_results\n"
      ],
      "metadata": {
        "colab": {
          "base_uri": "https://localhost:8080/",
          "height": 183
        },
        "id": "i8QTAK1X4gOC",
        "outputId": "606d964a-3889-4e55-bd61-b18950f38aa5"
      },
      "execution_count": 1,
      "outputs": [
        {
          "output_type": "error",
          "ename": "NameError",
          "evalue": "name 'pd' is not defined",
          "traceback": [
            "\u001b[0;31m---------------------------------------------------------------------------\u001b[0m",
            "\u001b[0;31mNameError\u001b[0m                                 Traceback (most recent call last)",
            "\u001b[0;32m<ipython-input-1-979f88799336>\u001b[0m in \u001b[0;36m<cell line: 0>\u001b[0;34m()\u001b[0m\n\u001b[0;32m----> 1\u001b[0;31m \u001b[0mdf_results\u001b[0m \u001b[0;34m=\u001b[0m \u001b[0mpd\u001b[0m\u001b[0;34m.\u001b[0m\u001b[0mDataFrame\u001b[0m\u001b[0;34m(\u001b[0m\u001b[0mresults\u001b[0m\u001b[0;34m)\u001b[0m\u001b[0;34m\u001b[0m\u001b[0;34m\u001b[0m\u001b[0m\n\u001b[0m\u001b[1;32m      2\u001b[0m \u001b[0mdf_results\u001b[0m \u001b[0;34m=\u001b[0m \u001b[0mdf_results\u001b[0m\u001b[0;34m.\u001b[0m\u001b[0msort_values\u001b[0m\u001b[0;34m(\u001b[0m\u001b[0mby\u001b[0m\u001b[0;34m=\u001b[0m\u001b[0;34m'accuracy'\u001b[0m\u001b[0;34m,\u001b[0m \u001b[0mascending\u001b[0m\u001b[0;34m=\u001b[0m\u001b[0;32mFalse\u001b[0m\u001b[0;34m)\u001b[0m\u001b[0;34m\u001b[0m\u001b[0;34m\u001b[0m\u001b[0m\n\u001b[1;32m      3\u001b[0m \u001b[0mdf_results\u001b[0m\u001b[0;34m\u001b[0m\u001b[0;34m\u001b[0m\u001b[0m\n",
            "\u001b[0;31mNameError\u001b[0m: name 'pd' is not defined"
          ]
        }
      ]
    },
    {
      "cell_type": "markdown",
      "source": [
        "8. Plot Results"
      ],
      "metadata": {
        "id": "jQQsMEojXELd"
      }
    },
    {
      "cell_type": "code",
      "source": [
        "import seaborn as sns\n",
        "import matplotlib.pyplot as plt\n",
        "\n",
        "plt.figure(figsize=(12, 6))\n",
        "sns.lineplot(data=df_results, x='window_ms', y='accuracy', hue='feature', style='overlap', markers=True)\n",
        "plt.title(\"Accuracy vs Window Size for MFCC and Mel Features\")\n",
        "plt.ylabel(\"Accuracy\")\n",
        "plt.xlabel(\"Window Size (ms)\")\n",
        "plt.grid(True)\n",
        "plt.show()\n"
      ],
      "metadata": {
        "colab": {
          "base_uri": "https://localhost:8080/",
          "height": 238
        },
        "id": "R-KkiyFB4wzB",
        "outputId": "ba7a2dc4-fa56-4d11-931f-98785cfc7cc1"
      },
      "execution_count": 2,
      "outputs": [
        {
          "output_type": "error",
          "ename": "NameError",
          "evalue": "name 'df_results' is not defined",
          "traceback": [
            "\u001b[0;31m---------------------------------------------------------------------------\u001b[0m",
            "\u001b[0;31mNameError\u001b[0m                                 Traceback (most recent call last)",
            "\u001b[0;32m<ipython-input-2-99b7a4913cd1>\u001b[0m in \u001b[0;36m<cell line: 0>\u001b[0;34m()\u001b[0m\n\u001b[1;32m      3\u001b[0m \u001b[0;34m\u001b[0m\u001b[0m\n\u001b[1;32m      4\u001b[0m \u001b[0mplt\u001b[0m\u001b[0;34m.\u001b[0m\u001b[0mfigure\u001b[0m\u001b[0;34m(\u001b[0m\u001b[0mfigsize\u001b[0m\u001b[0;34m=\u001b[0m\u001b[0;34m(\u001b[0m\u001b[0;36m12\u001b[0m\u001b[0;34m,\u001b[0m \u001b[0;36m6\u001b[0m\u001b[0;34m)\u001b[0m\u001b[0;34m)\u001b[0m\u001b[0;34m\u001b[0m\u001b[0;34m\u001b[0m\u001b[0m\n\u001b[0;32m----> 5\u001b[0;31m \u001b[0msns\u001b[0m\u001b[0;34m.\u001b[0m\u001b[0mlineplot\u001b[0m\u001b[0;34m(\u001b[0m\u001b[0mdata\u001b[0m\u001b[0;34m=\u001b[0m\u001b[0mdf_results\u001b[0m\u001b[0;34m,\u001b[0m \u001b[0mx\u001b[0m\u001b[0;34m=\u001b[0m\u001b[0;34m'window_ms'\u001b[0m\u001b[0;34m,\u001b[0m \u001b[0my\u001b[0m\u001b[0;34m=\u001b[0m\u001b[0;34m'accuracy'\u001b[0m\u001b[0;34m,\u001b[0m \u001b[0mhue\u001b[0m\u001b[0;34m=\u001b[0m\u001b[0;34m'feature'\u001b[0m\u001b[0;34m,\u001b[0m \u001b[0mstyle\u001b[0m\u001b[0;34m=\u001b[0m\u001b[0;34m'overlap'\u001b[0m\u001b[0;34m,\u001b[0m \u001b[0mmarkers\u001b[0m\u001b[0;34m=\u001b[0m\u001b[0;32mTrue\u001b[0m\u001b[0;34m)\u001b[0m\u001b[0;34m\u001b[0m\u001b[0;34m\u001b[0m\u001b[0m\n\u001b[0m\u001b[1;32m      6\u001b[0m \u001b[0mplt\u001b[0m\u001b[0;34m.\u001b[0m\u001b[0mtitle\u001b[0m\u001b[0;34m(\u001b[0m\u001b[0;34m\"Accuracy vs Window Size for MFCC and Mel Features\"\u001b[0m\u001b[0;34m)\u001b[0m\u001b[0;34m\u001b[0m\u001b[0;34m\u001b[0m\u001b[0m\n\u001b[1;32m      7\u001b[0m \u001b[0mplt\u001b[0m\u001b[0;34m.\u001b[0m\u001b[0mylabel\u001b[0m\u001b[0;34m(\u001b[0m\u001b[0;34m\"Accuracy\"\u001b[0m\u001b[0;34m)\u001b[0m\u001b[0;34m\u001b[0m\u001b[0;34m\u001b[0m\u001b[0m\n",
            "\u001b[0;31mNameError\u001b[0m: name 'df_results' is not defined"
          ]
        },
        {
          "output_type": "display_data",
          "data": {
            "text/plain": [
              "<Figure size 1200x600 with 0 Axes>"
            ]
          },
          "metadata": {}
        }
      ]
    }
  ]
}