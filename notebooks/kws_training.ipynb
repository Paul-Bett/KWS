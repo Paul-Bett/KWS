{
 "cells": [
  {
   "cell_type": "markdown",
   "metadata": {},
   "source": [
    "# Keyword Spotting (KWS) Model Training\n",
    "\n",
    "This notebook demonstrates how to train a Keyword Spotting model using TensorFlo"
   ]
  },
  {
   "cell_type": "code",
   "execution_count": null,
   "metadata": {
    "vscode": {
     "languageId": "plaintext"
    }
   },
   "outputs": [],
   "source": [
    "# Install required packages\n",
    "!pip install numpy>=1.19.2 librosa>=0.8.0 scipy>=1.6.0 scikit-learn>=0.24.0 \\\n",
    "    soundfile>=0.10.3 matplotlib>=3.3.0 tensorflow>=2.8.0 sounddevice>=0.4.4 \\\n",
    "    pandas>=1.3.0 tqdm>=4.62.0 kaggle"
   ]
  },
  {
   "cell_type": "code",
   "execution_count": null,
   "metadata": {
    "vscode": {
     "languageId": "plaintext"
    }
   },
   "outputs": [],
   "source": [
    "from google.colab import files\n",
    "uploaded = files.upload()  # Upload your kaggle.json file\n",
    "\n",
    "# Move kaggle.json to the correct location\n",
    "!mkdir -p ~/.kaggle\n",
    "!mv kaggle.json ~/.kaggle/\n",
    "!chmod 600 ~/.kaggle/kaggle.json"
   ]
  },
  {
   "cell_type": "code",
   "execution_count": null,
   "metadata": {
    "vscode": {
     "languageId": "plaintext"
    }
   },
   "outputs": [],
   "source": [
    "import os\n",
    "import zipfile\n",
    "import shutil\n",
    "from pathlib import Path\n",
    "\n",
    "# Create necessary directories\n",
    "os.makedirs('data', exist_ok=True)\n",
    "os.makedirs('data/train', exist_ok=True)\n",
    "os.makedirs('data/val', exist_ok=True)\n",
    "\n",
    "# Download dataset from Kaggle\n",
    "!kaggle competitions download -c tensorflow-speech-recognition-challenge -p data\n",
    "\n",
    "# Install 7zip for extraction\n",
    "!apt-get install p7zip-full\n",
    "\n",
    "# Extract dataset\n",
    "!7z x data/train.7z -odata/temp\n",
    "\n",
    "# Define the classes we want to use (10 specific commands)\n",
    "target_classes = [\n",
    "    'yes', 'no', 'up', 'down', 'left', 'right',\n",
    "    'on', 'off', 'stop', 'go'\n",
    "]\n",
    "\n",
    "# Organize data into train/val splits\n",
    "def organize_data(source_dir, train_dir, val_dir, val_split=0.2):\n",
    "    total_files = 0\n",
    "    for class_name in target_classes:\n",
    "        class_dir = os.path.join(source_dir, class_name)\n",
    "        if os.path.isdir(class_dir):\n",
    "            # Create class directories in train and val\n",
    "            os.makedirs(os.path.join(train_dir, class_name), exist_ok=True)\n",
    "            os.makedirs(os.path.join(val_dir, class_name), exist_ok=True)\n",
    "            \n",
    "            # Get all files for this class\n",
    "            files = [f for f in os.listdir(class_dir) if f.endswith('.wav')]\n",
    "            total_files += len(files)\n",
    "            \n",
    "            # Split into train and validation\n",
    "            val_size = int(len(files) * val_split)\n",
    "            val_files = files[:val_size]\n",
    "            train_files = files[val_size:]\n",
    "            \n",
    "            # Move files to respective directories\n",
    "            for f in train_files:\n",
    "                shutil.copy(os.path.join(class_dir, f), \n",
    "                           os.path.join(train_dir, class_name, f))\n",
    "            for f in val_files:\n",
    "                shutil.copy(os.path.join(class_dir, f), \n",
    "                           os.path.join(val_dir, class_name, f))\n",
    "            \n",
    "            print(f\"Processed {class_name}: {len(train_files)} train, {len(val_files)} validation files\")\n",
    "    \n",
    "    print(f\"\\nTotal files processed: {total_files}\")\n",
    "\n",
    "# Organize the data\n",
    "organize_data('data/temp/train/audio', 'data/train', 'data/val')\n",
    "\n",
    "# Clean up temporary directory\n",
    "shutil.rmtree('data/temp')\n",
    "\n",
    "print(\"\\nDataset preparation completed!\")"
   ]
  },
  {
   "cell_type": "code",
   "execution_count": null,
   "metadata": {
    "vscode": {
     "languageId": "plaintext"
    }
   },
   "outputs": [],
   "source": [
    "import sys\n",
    "import numpy as np\n",
    "import tensorflow as tf\n",
    "import matplotlib.pyplot as plt\n",
    "from tqdm import tqdm\n",
    "\n",
    "# Add the src directory to Python path\n",
    "sys.path.append('src')\n",
    "\n",
    "from model import KWSSystem\n",
    "from feature_extraction import FeatureExtractor\n",
    "from data_loader import AudioDataLoader"
   ]
  },
  {
   "cell_type": "code",
   "execution_count": null,
   "metadata": {
    "vscode": {
     "languageId": "plaintext"
    }
   },
   "outputs": [],
   "source": [
    "# Training configuration\n",
    "config = {\n",
    "    'data_dir': 'data',\n",
    "    'model_type': 'cnn',  # or 'lstm'\n",
    "    'feature_type': 'mfcc',  # or 'mel'\n",
    "    'batch_size': 32,\n",
    "    'epochs': 50,\n",
    "    'learning_rate': 0.001,\n",
    "    'num_classes': len(target_classes)  # Now 10 classes\n",
    "}\n",
    "\n",
    "print(f\"Training configuration:\")\n",
    "print(f\"- Model type: {config['model_type']}\")\n",
    "print(f\"- Feature type: {config['feature_type']}\")\n",
    "print(f\"- Number of classes: {config['num_classes']}\")\n",
    "print(f\"- Batch size: {config['batch_size']}\")\n",
    "print(f\"- Epochs: {config['epochs']}\")\n",
    "print(f\"- Learning rate: {config['learning_rate']}\")\n",
    "\n",
    "# Create feature extractor\n",
    "feature_extractor = FeatureExtractor()\n",
    "\n",
    "# Initialize KWS system\n",
    "kws = KWSSystem(\n",
    "    model_type=config['model_type'],\n",
    "    n_mfcc=13 if config['feature_type'] == 'mfcc' else None,\n",
    "    num_classes=config['num_classes']\n",
    ")"
   ]
  },
  {
   "cell_type": "code",
   "execution_count": null,
   "metadata": {
    "vscode": {
     "languageId": "plaintext"
    }
   },
   "outputs": [],
   "source": [
    "def create_dataset(data_dir, feature_extractor, batch_size"
   ]
  }
 ],
 "metadata": {
  "language_info": {
   "name": "python"
  }
 },
 "nbformat": 4,
 "nbformat_minor": 2
}
