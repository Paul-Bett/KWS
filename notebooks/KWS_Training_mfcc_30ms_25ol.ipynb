{
  "nbformat": 4,
  "nbformat_minor": 0,
  "metadata": {
    "colab": {
      "provenance": [],
      "gpuType": "T4"
    },
    "kernelspec": {
      "name": "python3",
      "display_name": "Python 3"
    },
    "language_info": {
      "name": "python"
    },
    "accelerator": "GPU"
  },
  "cells": [
    {
      "cell_type": "code",
      "execution_count": 1,
      "metadata": {
        "colab": {
          "base_uri": "https://localhost:8080/"
        },
        "id": "ydK0WqBKGqRb",
        "outputId": "e2fab028-215f-40a7-a226-0622452644de"
      },
      "outputs": [
        {
          "output_type": "stream",
          "name": "stdout",
          "text": [
            "Requirement already satisfied: librosa in /usr/local/lib/python3.11/dist-packages (0.11.0)\n",
            "Requirement already satisfied: soundfile in /usr/local/lib/python3.11/dist-packages (0.13.1)\n",
            "Requirement already satisfied: scikit-learn in /usr/local/lib/python3.11/dist-packages (1.6.1)\n",
            "Requirement already satisfied: audioread>=2.1.9 in /usr/local/lib/python3.11/dist-packages (from librosa) (3.0.1)\n",
            "Requirement already satisfied: numba>=0.51.0 in /usr/local/lib/python3.11/dist-packages (from librosa) (0.60.0)\n",
            "Requirement already satisfied: numpy>=1.22.3 in /usr/local/lib/python3.11/dist-packages (from librosa) (2.0.2)\n",
            "Requirement already satisfied: scipy>=1.6.0 in /usr/local/lib/python3.11/dist-packages (from librosa) (1.15.3)\n",
            "Requirement already satisfied: joblib>=1.0 in /usr/local/lib/python3.11/dist-packages (from librosa) (1.5.0)\n",
            "Requirement already satisfied: decorator>=4.3.0 in /usr/local/lib/python3.11/dist-packages (from librosa) (4.4.2)\n",
            "Requirement already satisfied: pooch>=1.1 in /usr/local/lib/python3.11/dist-packages (from librosa) (1.8.2)\n",
            "Requirement already satisfied: soxr>=0.3.2 in /usr/local/lib/python3.11/dist-packages (from librosa) (0.5.0.post1)\n",
            "Requirement already satisfied: typing_extensions>=4.1.1 in /usr/local/lib/python3.11/dist-packages (from librosa) (4.13.2)\n",
            "Requirement already satisfied: lazy_loader>=0.1 in /usr/local/lib/python3.11/dist-packages (from librosa) (0.4)\n",
            "Requirement already satisfied: msgpack>=1.0 in /usr/local/lib/python3.11/dist-packages (from librosa) (1.1.0)\n",
            "Requirement already satisfied: cffi>=1.0 in /usr/local/lib/python3.11/dist-packages (from soundfile) (1.17.1)\n",
            "Requirement already satisfied: threadpoolctl>=3.1.0 in /usr/local/lib/python3.11/dist-packages (from scikit-learn) (3.6.0)\n",
            "Requirement already satisfied: pycparser in /usr/local/lib/python3.11/dist-packages (from cffi>=1.0->soundfile) (2.22)\n",
            "Requirement already satisfied: packaging in /usr/local/lib/python3.11/dist-packages (from lazy_loader>=0.1->librosa) (24.2)\n",
            "Requirement already satisfied: llvmlite<0.44,>=0.43.0dev0 in /usr/local/lib/python3.11/dist-packages (from numba>=0.51.0->librosa) (0.43.0)\n",
            "Requirement already satisfied: platformdirs>=2.5.0 in /usr/local/lib/python3.11/dist-packages (from pooch>=1.1->librosa) (4.3.8)\n",
            "Requirement already satisfied: requests>=2.19.0 in /usr/local/lib/python3.11/dist-packages (from pooch>=1.1->librosa) (2.32.3)\n",
            "Requirement already satisfied: charset-normalizer<4,>=2 in /usr/local/lib/python3.11/dist-packages (from requests>=2.19.0->pooch>=1.1->librosa) (3.4.2)\n",
            "Requirement already satisfied: idna<4,>=2.5 in /usr/local/lib/python3.11/dist-packages (from requests>=2.19.0->pooch>=1.1->librosa) (3.10)\n",
            "Requirement already satisfied: urllib3<3,>=1.21.1 in /usr/local/lib/python3.11/dist-packages (from requests>=2.19.0->pooch>=1.1->librosa) (2.4.0)\n",
            "Requirement already satisfied: certifi>=2017.4.17 in /usr/local/lib/python3.11/dist-packages (from requests>=2.19.0->pooch>=1.1->librosa) (2025.4.26)\n"
          ]
        }
      ],
      "source": [
        "!pip install librosa soundfile scikit-learn\n"
      ]
    },
    {
      "cell_type": "code",
      "source": [
        "import os\n",
        "import csv\n",
        "import tarfile\n",
        "import urllib.request\n",
        "import random\n",
        "import numpy as np\n",
        "import librosa\n",
        "import tensorflow as tf\n",
        "import soundfile as sf\n",
        "from sklearn.model_selection import train_test_split\n",
        "from tensorflow.keras.utils import to_categorical\n",
        "from tensorflow.keras.models import Sequential\n",
        "from tensorflow.keras.layers import Conv2D, MaxPooling2D, Flatten, Dense, Dropout\n",
        "import matplotlib.pyplot as plt\n"
      ],
      "metadata": {
        "id": "yJ5GRqHRIFE3"
      },
      "execution_count": 2,
      "outputs": []
    },
    {
      "cell_type": "code",
      "source": [
        "dataset_url = 'http://download.tensorflow.org/data/speech_commands_v0.02.tar.gz'\n",
        "dataset_tar = 'speech_commands_v0.02.tar.gz'\n",
        "data_dir = 'speech_commands'\n",
        "os.makedirs(data_dir, exist_ok=True)\n",
        "\n",
        "if not os.path.exists(dataset_tar):\n",
        "    print(\"Downloading dataset...\")\n",
        "    urllib.request.urlretrieve(dataset_url, dataset_tar)\n",
        "    print(\"Download complete.\")\n",
        "\n",
        "print(\"Extracting dataset...\")\n",
        "with tarfile.open(dataset_tar, 'r:gz') as tar:\n",
        "    tar.extractall(path=data_dir)\n",
        "print(\"Extraction complete.\")\n"
      ],
      "metadata": {
        "colab": {
          "base_uri": "https://localhost:8080/"
        },
        "id": "EtqBQjVgIFBq",
        "outputId": "5f3920f6-bdd2-42b5-f78b-395d6f655559"
      },
      "execution_count": 3,
      "outputs": [
        {
          "output_type": "stream",
          "name": "stdout",
          "text": [
            "Downloading dataset...\n",
            "Download complete.\n",
            "Extracting dataset...\n",
            "Extraction complete.\n"
          ]
        }
      ]
    },
    {
      "cell_type": "code",
      "source": [
        "keywords = ['yes', 'no', 'up', 'down', 'left', 'right', 'on', 'off', 'stop', 'go']\n",
        "all_data = []\n",
        "\n",
        "for kw in keywords:\n",
        "    files = [os.path.join(data_dir, kw, f) for f in os.listdir(os.path.join(data_dir, kw)) if f.endswith('.wav')]\n",
        "    all_data.extend([(f, kw) for f in files])\n",
        "\n",
        "train_set, test_set = train_test_split(all_data, test_size=0.2, stratify=[lbl for _, lbl in all_data], random_state=42)\n",
        "train_set, val_set = train_test_split(train_set, test_size=0.2, stratify=[lbl for _, lbl in train_set], random_state=42)\n",
        "\n",
        "os.makedirs('splits', exist_ok=True)\n",
        "\n",
        "def write_csv(data, filename):\n",
        "    with open(os.path.join('splits', filename), 'w', newline='') as f:\n",
        "        writer = csv.writer(f)\n",
        "        writer.writerow(['filepath', 'label'])\n",
        "        writer.writerows(data)\n",
        "\n",
        "write_csv(train_set, 'train.csv')\n",
        "write_csv(val_set, 'val.csv')\n",
        "write_csv(test_set, 'test.csv')\n"
      ],
      "metadata": {
        "id": "jDSC8Y5nIE_3"
      },
      "execution_count": 4,
      "outputs": []
    },
    {
      "cell_type": "code",
      "source": [
        "def extract_features(file_path, feature_type='mfcc', win_ms=30, overlap_perc=0.25, sr=16000, n_mels=40):\n",
        "    y, sr = librosa.load(file_path, sr=sr)\n",
        "    win_len = int(sr * win_ms / 1000)\n",
        "    hop_len = int(win_len * (1 - overlap_perc))\n",
        "\n",
        "    if feature_type == 'mfcc':\n",
        "        mfcc = librosa.feature.mfcc(y=y, sr=sr, n_fft=win_len, hop_length=hop_len, n_mfcc=13)\n",
        "        return mfcc\n",
        "    elif feature_type == 'mel':\n",
        "        mel = librosa.feature.melspectrogram(y=y, sr=sr, n_fft=win_len, hop_length=hop_len, n_mels=n_mels)\n",
        "        mel_db = librosa.power_to_db(mel, ref=np.max)\n",
        "        return mel_db\n",
        "    else:\n",
        "        raise ValueError(\"Unknown feature type\")\n"
      ],
      "metadata": {
        "id": "KllswLViIE9t"
      },
      "execution_count": 5,
      "outputs": []
    },
    {
      "cell_type": "code",
      "source": [
        "label_map = {k: i for i, k in enumerate(keywords)}\n",
        "\n",
        "def load_split(csv_path, feature_type='mfcc', win_ms=30, overlap=0.25, max_frames=100):\n",
        "    X, y = [], []\n",
        "    with open(csv_path, 'r') as f:\n",
        "        reader = csv.DictReader(f)\n",
        "        for row in reader:\n",
        "            try:\n",
        "                features = extract_features(row['filepath'], feature_type, win_ms, overlap)\n",
        "                if features.shape[1] > max_frames:\n",
        "                    features = features[:, :max_frames]\n",
        "                else:\n",
        "                    pad_width = max_frames - features.shape[1]\n",
        "                    features = np.pad(features, ((0, 0), (0, pad_width)), mode='constant')\n",
        "                X.append(features)\n",
        "                y.append(label_map[row['label']])\n",
        "            except:\n",
        "                continue\n",
        "    X = np.array(X, dtype='float32')\n",
        "    y = to_categorical(y, num_classes=len(keywords))\n",
        "    return np.expand_dims(X, -1), y\n"
      ],
      "metadata": {
        "id": "GUvfsgrDIE7c"
      },
      "execution_count": 6,
      "outputs": []
    },
    {
      "cell_type": "code",
      "source": [
        "def build_model(input_shape, num_classes):\n",
        "    model = Sequential([\n",
        "        Conv2D(32, (3, 3), activation='relu', input_shape=input_shape),\n",
        "        MaxPooling2D((2, 2)),\n",
        "        Conv2D(64, (3, 3), activation='relu'),\n",
        "        MaxPooling2D((2, 2)),\n",
        "        Flatten(),\n",
        "        Dense(128, activation='relu'),\n",
        "        Dropout(0.5),\n",
        "        Dense(num_classes, activation='softmax')\n",
        "    ])\n",
        "    model.compile(optimizer='adam', loss='categorical_crossentropy', metrics=['accuracy'])\n",
        "    return model\n"
      ],
      "metadata": {
        "id": "3K4wgZkdIE5K"
      },
      "execution_count": 7,
      "outputs": []
    },
    {
      "cell_type": "code",
      "source": [
        "# Use fixed parameters\n",
        "feature_type = 'mfcc'    # Change to 'mel' if needed\n",
        "win_ms = 30\n",
        "overlap = 0.25\n",
        "\n",
        "print(f\"Training with feature={feature_type}, window={win_ms}ms, overlap={int(overlap * 100)}%\")\n",
        "\n",
        "X_train, y_train = load_split('splits/train.csv', feature_type, win_ms, overlap)\n",
        "X_val, y_val = load_split('splits/val.csv', feature_type, win_ms, overlap)\n",
        "X_test, y_test = load_split('splits/test.csv', feature_type, win_ms, overlap)\n",
        "\n",
        "model = build_model(X_train.shape[1:], y_train.shape[1])\n",
        "history = model.fit(X_train, y_train, epochs=20, batch_size=32, validation_data=(X_val, y_val), verbose=1)\n",
        "\n",
        "loss, acc = model.evaluate(X_test, y_test, verbose=1)\n",
        "print(f\"\\n✅ Final Test Accuracy: {acc:.4f}\")\n"
      ],
      "metadata": {
        "colab": {
          "base_uri": "https://localhost:8080/"
        },
        "id": "aYDMBsWrIE3N",
        "outputId": "bd93deb4-7cd2-4c16-e52f-5bda98f643b0"
      },
      "execution_count": 20,
      "outputs": [
        {
          "output_type": "stream",
          "name": "stdout",
          "text": [
            "Training with feature=mfcc, window=30ms, overlap=25%\n",
            "Epoch 1/20\n",
            "\u001b[1m771/771\u001b[0m \u001b[32m━━━━━━━━━━━━━━━━━━━━\u001b[0m\u001b[37m\u001b[0m \u001b[1m8s\u001b[0m 6ms/step - accuracy: 0.1629 - loss: 3.5943 - val_accuracy: 0.5841 - val_loss: 1.1668\n",
            "Epoch 2/20\n",
            "\u001b[1m771/771\u001b[0m \u001b[32m━━━━━━━━━━━━━━━━━━━━\u001b[0m\u001b[37m\u001b[0m \u001b[1m8s\u001b[0m 5ms/step - accuracy: 0.5663 - loss: 1.2230 - val_accuracy: 0.7635 - val_loss: 0.7309\n",
            "Epoch 3/20\n",
            "\u001b[1m771/771\u001b[0m \u001b[32m━━━━━━━━━━━━━━━━━━━━\u001b[0m\u001b[37m\u001b[0m \u001b[1m3s\u001b[0m 4ms/step - accuracy: 0.7341 - loss: 0.7821 - val_accuracy: 0.8272 - val_loss: 0.5215\n",
            "Epoch 4/20\n",
            "\u001b[1m771/771\u001b[0m \u001b[32m━━━━━━━━━━━━━━━━━━━━\u001b[0m\u001b[37m\u001b[0m \u001b[1m3s\u001b[0m 4ms/step - accuracy: 0.7918 - loss: 0.6102 - val_accuracy: 0.8622 - val_loss: 0.4289\n",
            "Epoch 5/20\n",
            "\u001b[1m771/771\u001b[0m \u001b[32m━━━━━━━━━━━━━━━━━━━━\u001b[0m\u001b[37m\u001b[0m \u001b[1m3s\u001b[0m 4ms/step - accuracy: 0.8248 - loss: 0.5157 - val_accuracy: 0.8624 - val_loss: 0.4219\n",
            "Epoch 6/20\n",
            "\u001b[1m771/771\u001b[0m \u001b[32m━━━━━━━━━━━━━━━━━━━━\u001b[0m\u001b[37m\u001b[0m \u001b[1m3s\u001b[0m 4ms/step - accuracy: 0.8466 - loss: 0.4512 - val_accuracy: 0.8628 - val_loss: 0.4290\n",
            "Epoch 7/20\n",
            "\u001b[1m771/771\u001b[0m \u001b[32m━━━━━━━━━━━━━━━━━━━━\u001b[0m\u001b[37m\u001b[0m \u001b[1m5s\u001b[0m 4ms/step - accuracy: 0.8637 - loss: 0.4063 - val_accuracy: 0.8778 - val_loss: 0.3803\n",
            "Epoch 8/20\n",
            "\u001b[1m771/771\u001b[0m \u001b[32m━━━━━━━━━━━━━━━━━━━━\u001b[0m\u001b[37m\u001b[0m \u001b[1m3s\u001b[0m 4ms/step - accuracy: 0.8728 - loss: 0.3744 - val_accuracy: 0.8834 - val_loss: 0.3726\n",
            "Epoch 9/20\n",
            "\u001b[1m771/771\u001b[0m \u001b[32m━━━━━━━━━━━━━━━━━━━━\u001b[0m\u001b[37m\u001b[0m \u001b[1m3s\u001b[0m 4ms/step - accuracy: 0.8868 - loss: 0.3394 - val_accuracy: 0.8756 - val_loss: 0.3977\n",
            "Epoch 10/20\n",
            "\u001b[1m771/771\u001b[0m \u001b[32m━━━━━━━━━━━━━━━━━━━━\u001b[0m\u001b[37m\u001b[0m \u001b[1m5s\u001b[0m 4ms/step - accuracy: 0.8917 - loss: 0.3264 - val_accuracy: 0.8943 - val_loss: 0.3365\n",
            "Epoch 11/20\n",
            "\u001b[1m771/771\u001b[0m \u001b[32m━━━━━━━━━━━━━━━━━━━━\u001b[0m\u001b[37m\u001b[0m \u001b[1m5s\u001b[0m 4ms/step - accuracy: 0.8957 - loss: 0.3091 - val_accuracy: 0.8932 - val_loss: 0.3340\n",
            "Epoch 12/20\n",
            "\u001b[1m771/771\u001b[0m \u001b[32m━━━━━━━━━━━━━━━━━━━━\u001b[0m\u001b[37m\u001b[0m \u001b[1m3s\u001b[0m 4ms/step - accuracy: 0.9038 - loss: 0.2972 - val_accuracy: 0.8818 - val_loss: 0.3961\n",
            "Epoch 13/20\n",
            "\u001b[1m771/771\u001b[0m \u001b[32m━━━━━━━━━━━━━━━━━━━━\u001b[0m\u001b[37m\u001b[0m \u001b[1m5s\u001b[0m 4ms/step - accuracy: 0.9001 - loss: 0.2955 - val_accuracy: 0.8885 - val_loss: 0.3808\n",
            "Epoch 14/20\n",
            "\u001b[1m771/771\u001b[0m \u001b[32m━━━━━━━━━━━━━━━━━━━━\u001b[0m\u001b[37m\u001b[0m \u001b[1m6s\u001b[0m 5ms/step - accuracy: 0.9080 - loss: 0.2701 - val_accuracy: 0.9055 - val_loss: 0.3216\n",
            "Epoch 15/20\n",
            "\u001b[1m771/771\u001b[0m \u001b[32m━━━━━━━━━━━━━━━━━━━━\u001b[0m\u001b[37m\u001b[0m \u001b[1m3s\u001b[0m 4ms/step - accuracy: 0.9123 - loss: 0.2589 - val_accuracy: 0.8935 - val_loss: 0.3725\n",
            "Epoch 16/20\n",
            "\u001b[1m771/771\u001b[0m \u001b[32m━━━━━━━━━━━━━━━━━━━━\u001b[0m\u001b[37m\u001b[0m \u001b[1m3s\u001b[0m 4ms/step - accuracy: 0.9141 - loss: 0.2518 - val_accuracy: 0.8975 - val_loss: 0.3749\n",
            "Epoch 17/20\n",
            "\u001b[1m771/771\u001b[0m \u001b[32m━━━━━━━━━━━━━━━━━━━━\u001b[0m\u001b[37m\u001b[0m \u001b[1m3s\u001b[0m 4ms/step - accuracy: 0.9177 - loss: 0.2388 - val_accuracy: 0.8914 - val_loss: 0.4026\n",
            "Epoch 18/20\n",
            "\u001b[1m771/771\u001b[0m \u001b[32m━━━━━━━━━━━━━━━━━━━━\u001b[0m\u001b[37m\u001b[0m \u001b[1m5s\u001b[0m 4ms/step - accuracy: 0.9133 - loss: 0.2458 - val_accuracy: 0.9047 - val_loss: 0.3489\n",
            "Epoch 19/20\n",
            "\u001b[1m771/771\u001b[0m \u001b[32m━━━━━━━━━━━━━━━━━━━━\u001b[0m\u001b[37m\u001b[0m \u001b[1m5s\u001b[0m 4ms/step - accuracy: 0.9204 - loss: 0.2426 - val_accuracy: 0.9047 - val_loss: 0.3521\n",
            "Epoch 20/20\n",
            "\u001b[1m771/771\u001b[0m \u001b[32m━━━━━━━━━━━━━━━━━━━━\u001b[0m\u001b[37m\u001b[0m \u001b[1m4s\u001b[0m 5ms/step - accuracy: 0.9233 - loss: 0.2234 - val_accuracy: 0.9037 - val_loss: 0.3504\n",
            "\u001b[1m241/241\u001b[0m \u001b[32m━━━━━━━━━━━━━━━━━━━━\u001b[0m\u001b[37m\u001b[0m \u001b[1m1s\u001b[0m 4ms/step - accuracy: 0.9053 - loss: 0.3233\n",
            "\n",
            "✅ Final Test Accuracy: 0.9043\n"
          ]
        }
      ]
    },
    {
      "cell_type": "code",
      "source": [
        "model_dir = \"trained_model\"\n",
        "os.makedirs(model_dir, exist_ok=True)\n",
        "model_path = os.path.join(model_dir, f\"keyword_spotting_{feature_type}_{win_ms}ms_{int(overlap * 100)}ol.h5\")\n",
        "model.save(model_path)\n",
        "print(f\"✅ Model saved to: {model_path}\")\n"
      ],
      "metadata": {
        "colab": {
          "base_uri": "https://localhost:8080/"
        },
        "id": "6VJwKeBRIE1L",
        "outputId": "094667a4-4f2e-4218-f89c-54ad3a0cf2d1"
      },
      "execution_count": 22,
      "outputs": [
        {
          "output_type": "stream",
          "name": "stderr",
          "text": [
            "WARNING:absl:You are saving your model as an HDF5 file via `model.save()` or `keras.saving.save_model(model)`. This file format is considered legacy. We recommend using instead the native Keras format, e.g. `model.save('my_model.keras')` or `keras.saving.save_model(model, 'my_model.keras')`. \n"
          ]
        },
        {
          "output_type": "stream",
          "name": "stdout",
          "text": [
            "✅ Model saved to: trained_model/keyword_spotting_mfcc_30ms_25ol.h5\n"
          ]
        }
      ]
    },
    {
      "cell_type": "code",
      "source": [
        "plt.figure(figsize=(12, 4))\n",
        "\n",
        "plt.subplot(1, 2, 1)\n",
        "plt.plot(history.history['accuracy'], label='Train Accuracy')\n",
        "plt.plot(history.history['val_accuracy'], label='Validation Accuracy')\n",
        "plt.title('Accuracy over Epochs')\n",
        "plt.legend()\n",
        "\n",
        "plt.subplot(1, 2, 2)\n",
        "plt.plot(history.history['loss'], label='Train Loss')\n",
        "plt.plot(history.history['val_loss'], label='Validation Loss')\n",
        "plt.title('Loss over Epochs')\n",
        "plt.legend()\n",
        "\n",
        "plt.tight_layout()\n",
        "plt.show()\n"
      ],
      "metadata": {
        "colab": {
          "base_uri": "https://localhost:8080/",
          "height": 407
        },
        "id": "pjKYcgrVIEzJ",
        "outputId": "0773efd9-2e18-424a-c8c3-9b6cf8acd85f"
      },
      "execution_count": 23,
      "outputs": [
        {
          "output_type": "display_data",
          "data": {
            "text/plain": [
              "<Figure size 1200x400 with 2 Axes>"
            ],
            "image/png": "[encoded data removed]"
          },
          "metadata": {}
        }
      ]
    },
    {
      "cell_type": "code",
      "source": [
        "# prompt: inference the model with any of the audio files for test\n",
        "\n",
        "# Function to make a prediction on a single audio file\n",
        "def predict_keyword(audio_file_path, model, feature_type='mfcc', win_ms=30, overlap=0.25, max_frames=100):\n",
        "    try:\n",
        "        # Extract features from the audio file\n",
        "        features = extract_features(audio_file_path, feature_type, win_ms, overlap)\n",
        "\n",
        "        # Pad or truncate features to match the model's input shape\n",
        "        if features.shape[1] > max_frames:\n",
        "            features = features[:, :max_frames]\n",
        "        else:\n",
        "            pad_width = max_frames - features.shape[1]\n",
        "            features = np.pad(features, ((0, 0), (0, pad_width)), mode='constant')\n",
        "\n",
        "        # Reshape for model input (batch_size, height, width, channels)\n",
        "        input_features = np.expand_dims(features, axis=0) # Add batch dimension\n",
        "        input_features = np.expand_dims(input_features, axis=-1) # Add channel dimension\n",
        "\n",
        "        # Make prediction\n",
        "        predictions = model.predict(input_features)\n",
        "        predicted_class_index = np.argmax(predictions)\n",
        "        predicted_keyword = list(label_map.keys())[predicted_class_index]\n",
        "\n",
        "        return predicted_keyword, predictions[0]\n",
        "\n",
        "    except Exception as e:\n",
        "        print(f\"Error processing {audio_file_path}: {e}\")\n",
        "        return None, None\n",
        "\n",
        "# Select a random audio file from the test set for inference\n",
        "if test_set:\n",
        "    random_test_file, true_label = random.choice(test_set)\n",
        "    print(f\"\\n🚀 Inferencing on file: {random_test_file}\")\n",
        "    print(f\"True label: {true_label}\")\n",
        "\n",
        "    # Load the trained model\n",
        "    loaded_model = tf.keras.models.load_model(model_path) # Use the path where the model was saved\n",
        "\n",
        "    # Make a prediction\n",
        "    predicted_keyword, predictions = predict_keyword(random_test_file, loaded_model, feature_type, win_ms, overlap)\n",
        "\n",
        "    if predicted_keyword:\n",
        "        print(f\"Predicted keyword: {predicted_keyword}\")\n",
        "        print(f\"Prediction probabilities: {predictions}\")\n",
        "        # Optional: map probabilities to keywords\n",
        "        prob_dict = {kw: prob for kw, prob in zip(keywords, predictions)}\n",
        "        print(\"Probabilities per keyword:\")\n",
        "        for kw, prob in prob_dict.items():\n",
        "            print(f\"  {kw}: {prob:.4f}\")\n",
        "    else:\n",
        "        print(\"Failed to make prediction.\")\n",
        "else:\n",
        "    print(\"Test set is empty. Cannot perform inference.\")"
      ],
      "metadata": {
        "colab": {
          "base_uri": "https://localhost:8080/"
        },
        "id": "eeHuRWWQkhNz",
        "outputId": "fab2ccc5-4f74-4264-bf7c-ab77342d053e"
      },
      "execution_count": 24,
      "outputs": [
        {
          "output_type": "stream",
          "name": "stderr",
          "text": [
            "WARNING:absl:Compiled the loaded model, but the compiled metrics have yet to be built. `model.compile_metrics` will be empty until you train or evaluate the model.\n"
          ]
        },
        {
          "output_type": "stream",
          "name": "stdout",
          "text": [
            "\n",
            "🚀 Inferencing on file: speech_commands/left/de89e2ca_nohash_5.wav\n",
            "True label: left\n",
            "\u001b[1m1/1\u001b[0m \u001b[32m━━━━━━━━━━━━━━━━━━━━\u001b[0m\u001b[37m\u001b[0m \u001b[1m0s\u001b[0m 279ms/step\n",
            "Predicted keyword: left\n",
            "Prediction probabilities: [2.5796676e-11 9.5656781e-17 5.4242283e-12 1.3505511e-18 1.0000000e+00\n",
            " 1.2870353e-13 1.0915719e-17 1.2654219e-10 4.0208987e-09 1.2883208e-19]\n",
            "Probabilities per keyword:\n",
            "  yes: 0.0000\n",
            "  no: 0.0000\n",
            "  up: 0.0000\n",
            "  down: 0.0000\n",
            "  left: 1.0000\n",
            "  right: 0.0000\n",
            "  on: 0.0000\n",
            "  off: 0.0000\n",
            "  stop: 0.0000\n",
            "  go: 0.0000\n"
          ]
        }
      ]
    },
    {
      "cell_type": "code",
      "source": [
        "# prompt: another inference a random file every time\n",
        "\n",
        "# Select a random audio file from the test set for inference\n",
        "if test_set:\n",
        "    random_test_file, true_label = random.choice(test_set)\n",
        "    print(f\"\\n🚀 Inferencing on file: {random_test_file}\")\n",
        "    print(f\"True label: {true_label}\")\n",
        "\n",
        "    # Load the trained model\n",
        "    # Use the path where the model was saved, ensure model_path is defined from previous cells\n",
        "    loaded_model = tf.keras.models.load_model(model_path)\n",
        "\n",
        "    # Make a prediction\n",
        "    # Ensure feature_type, win_ms, overlap are defined from previous cells\n",
        "    predicted_keyword, predictions = predict_keyword(random_test_file, loaded_model, feature_type, win_ms, overlap)\n",
        "\n",
        "    if predicted_keyword:\n",
        "        print(f\"Predicted keyword: {predicted_keyword}\")\n",
        "        print(f\"Prediction probabilities: {predictions}\")\n",
        "        # Optional: map probabilities to keywords\n",
        "        # Ensure keywords are defined from previous cells\n",
        "        prob_dict = {kw: prob for kw, prob in zip(keywords, predictions)}\n",
        "        print(\"Probabilities per keyword:\")\n",
        "        for kw, prob in prob_dict.items():\n",
        "            print(f\"  {kw}: {prob:.4f}\")\n",
        "    else:\n",
        "        print(\"Failed to make prediction.\")\n",
        "else:\n",
        "    print(\"Test set is empty. Cannot perform inference.\")"
      ],
      "metadata": {
        "colab": {
          "base_uri": "https://localhost:8080/"
        },
        "id": "Run4duygplcz",
        "outputId": "832e62a7-c1e0-45c6-8811-36ff338e01e7"
      },
      "execution_count": 31,
      "outputs": [
        {
          "output_type": "stream",
          "name": "stderr",
          "text": [
            "WARNING:absl:Compiled the loaded model, but the compiled metrics have yet to be built. `model.compile_metrics` will be empty until you train or evaluate the model.\n"
          ]
        },
        {
          "output_type": "stream",
          "name": "stdout",
          "text": [
            "\n",
            "🚀 Inferencing on file: speech_commands/right/cc6ee39b_nohash_0.wav\n",
            "True label: right\n",
            "\u001b[1m1/1\u001b[0m \u001b[32m━━━━━━━━━━━━━━━━━━━━\u001b[0m\u001b[37m\u001b[0m \u001b[1m0s\u001b[0m 279ms/step\n",
            "Predicted keyword: right\n",
            "Prediction probabilities: [5.6581552e-11 6.1424695e-14 1.9409597e-14 3.4837528e-12 1.1636431e-02\n",
            " 9.8836356e-01 6.0184011e-11 1.2532075e-16 1.8491205e-12 1.5994649e-13]\n",
            "Probabilities per keyword:\n",
            "  yes: 0.0000\n",
            "  no: 0.0000\n",
            "  up: 0.0000\n",
            "  down: 0.0000\n",
            "  left: 0.0116\n",
            "  right: 0.9884\n",
            "  on: 0.0000\n",
            "  off: 0.0000\n",
            "  stop: 0.0000\n",
            "  go: 0.0000\n"
          ]
        }
      ]
    }
  ]
}