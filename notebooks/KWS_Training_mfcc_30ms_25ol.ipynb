{
  "nbformat": 4,
  "nbformat_minor": 0,
  "metadata": {
    "colab": {
      "provenance": [],
      "gpuType": "T4"
    },
    "kernelspec": {
      "name": "python3",
      "display_name": "Python 3"
    },
    "language_info": {
      "name": "python"
    },
    "accelerator": "GPU"
  },
  "cells": [
    {
      "cell_type": "code",
      "execution_count": 1,
      "metadata": {
        "colab": {
          "base_uri": "https://localhost:8080/"
        },
        "id": "ydK0WqBKGqRb",
        "outputId": "66150fa3-a170-47ac-97e1-6a41ba8e7ae5"
      },
      "outputs": [
        {
          "output_type": "stream",
          "name": "stdout",
          "text": [
            "Requirement already satisfied: librosa in /usr/local/lib/python3.11/dist-packages (0.11.0)\n",
            "Requirement already satisfied: soundfile in /usr/local/lib/python3.11/dist-packages (0.13.1)\n",
            "Requirement already satisfied: scikit-learn in /usr/local/lib/python3.11/dist-packages (1.6.1)\n",
            "Requirement already satisfied: audioread>=2.1.9 in /usr/local/lib/python3.11/dist-packages (from librosa) (3.0.1)\n",
            "Requirement already satisfied: numba>=0.51.0 in /usr/local/lib/python3.11/dist-packages (from librosa) (0.60.0)\n",
            "Requirement already satisfied: numpy>=1.22.3 in /usr/local/lib/python3.11/dist-packages (from librosa) (2.0.2)\n",
            "Requirement already satisfied: scipy>=1.6.0 in /usr/local/lib/python3.11/dist-packages (from librosa) (1.15.3)\n",
            "Requirement already satisfied: joblib>=1.0 in /usr/local/lib/python3.11/dist-packages (from librosa) (1.5.0)\n",
            "Requirement already satisfied: decorator>=4.3.0 in /usr/local/lib/python3.11/dist-packages (from librosa) (4.4.2)\n",
            "Requirement already satisfied: pooch>=1.1 in /usr/local/lib/python3.11/dist-packages (from librosa) (1.8.2)\n",
            "Requirement already satisfied: soxr>=0.3.2 in /usr/local/lib/python3.11/dist-packages (from librosa) (0.5.0.post1)\n",
            "Requirement already satisfied: typing_extensions>=4.1.1 in /usr/local/lib/python3.11/dist-packages (from librosa) (4.13.2)\n",
            "Requirement already satisfied: lazy_loader>=0.1 in /usr/local/lib/python3.11/dist-packages (from librosa) (0.4)\n",
            "Requirement already satisfied: msgpack>=1.0 in /usr/local/lib/python3.11/dist-packages (from librosa) (1.1.0)\n",
            "Requirement already satisfied: cffi>=1.0 in /usr/local/lib/python3.11/dist-packages (from soundfile) (1.17.1)\n",
            "Requirement already satisfied: threadpoolctl>=3.1.0 in /usr/local/lib/python3.11/dist-packages (from scikit-learn) (3.6.0)\n",
            "Requirement already satisfied: pycparser in /usr/local/lib/python3.11/dist-packages (from cffi>=1.0->soundfile) (2.22)\n",
            "Requirement already satisfied: packaging in /usr/local/lib/python3.11/dist-packages (from lazy_loader>=0.1->librosa) (24.2)\n",
            "Requirement already satisfied: llvmlite<0.44,>=0.43.0dev0 in /usr/local/lib/python3.11/dist-packages (from numba>=0.51.0->librosa) (0.43.0)\n",
            "Requirement already satisfied: platformdirs>=2.5.0 in /usr/local/lib/python3.11/dist-packages (from pooch>=1.1->librosa) (4.3.8)\n",
            "Requirement already satisfied: requests>=2.19.0 in /usr/local/lib/python3.11/dist-packages (from pooch>=1.1->librosa) (2.32.3)\n",
            "Requirement already satisfied: charset-normalizer<4,>=2 in /usr/local/lib/python3.11/dist-packages (from requests>=2.19.0->pooch>=1.1->librosa) (3.4.2)\n",
            "Requirement already satisfied: idna<4,>=2.5 in /usr/local/lib/python3.11/dist-packages (from requests>=2.19.0->pooch>=1.1->librosa) (3.10)\n",
            "Requirement already satisfied: urllib3<3,>=1.21.1 in /usr/local/lib/python3.11/dist-packages (from requests>=2.19.0->pooch>=1.1->librosa) (2.4.0)\n",
            "Requirement already satisfied: certifi>=2017.4.17 in /usr/local/lib/python3.11/dist-packages (from requests>=2.19.0->pooch>=1.1->librosa) (2025.4.26)\n"
          ]
        }
      ],
      "source": [
        "!pip install librosa soundfile scikit-learn\n"
      ]
    },
    {
      "cell_type": "code",
      "source": [
        "import os\n",
        "import csv\n",
        "import tarfile\n",
        "import urllib.request\n",
        "import random\n",
        "import numpy as np\n",
        "import librosa\n",
        "import tensorflow as tf\n",
        "import soundfile as sf\n",
        "from sklearn.model_selection import train_test_split\n",
        "from tensorflow.keras.utils import to_categorical\n",
        "from tensorflow.keras.models import Sequential\n",
        "from tensorflow.keras.layers import Conv2D, MaxPooling2D, Flatten, Dense, Dropout\n",
        "import matplotlib.pyplot as plt\n"
      ],
      "metadata": {
        "id": "yJ5GRqHRIFE3"
      },
      "execution_count": 2,
      "outputs": []
    },
    {
      "cell_type": "code",
      "source": [
        "dataset_url = 'http://download.tensorflow.org/data/speech_commands_v0.02.tar.gz'\n",
        "dataset_tar = 'speech_commands_v0.02.tar.gz'\n",
        "data_dir = 'speech_commands'\n",
        "os.makedirs(data_dir, exist_ok=True)\n",
        "\n",
        "if not os.path.exists(dataset_tar):\n",
        "    print(\"Downloading dataset...\")\n",
        "    urllib.request.urlretrieve(dataset_url, dataset_tar)\n",
        "    print(\"Download complete.\")\n",
        "\n",
        "print(\"Extracting dataset...\")\n",
        "with tarfile.open(dataset_tar, 'r:gz') as tar:\n",
        "    tar.extractall(path=data_dir)\n",
        "print(\"Extraction complete.\")\n"
      ],
      "metadata": {
        "colab": {
          "base_uri": "https://localhost:8080/"
        },
        "id": "EtqBQjVgIFBq",
        "outputId": "ee472cf1-6b58-4d5c-b327-7051b7e3de08"
      },
      "execution_count": 3,
      "outputs": [
        {
          "output_type": "stream",
          "name": "stdout",
          "text": [
            "Downloading dataset...\n",
            "Download complete.\n",
            "Extracting dataset...\n",
            "Extraction complete.\n"
          ]
        }
      ]
    },
    {
      "cell_type": "code",
      "source": [
        "keywords = ['yes', 'no', 'up', 'down', 'left', 'right', 'on', 'off', 'stop', 'go']\n",
        "all_data = []\n",
        "\n",
        "for kw in keywords:\n",
        "    files = [os.path.join(data_dir, kw, f) for f in os.listdir(os.path.join(data_dir, kw)) if f.endswith('.wav')]\n",
        "    all_data.extend([(f, kw) for f in files])\n",
        "\n",
        "train_set, test_set = train_test_split(all_data, test_size=0.2, stratify=[lbl for _, lbl in all_data], random_state=42)\n",
        "train_set, val_set = train_test_split(train_set, test_size=0.2, stratify=[lbl for _, lbl in train_set], random_state=42)\n",
        "\n",
        "os.makedirs('splits', exist_ok=True)\n",
        "\n",
        "def write_csv(data, filename):\n",
        "    with open(os.path.join('splits', filename), 'w', newline='') as f:\n",
        "        writer = csv.writer(f)\n",
        "        writer.writerow(['filepath', 'label'])\n",
        "        writer.writerows(data)\n",
        "\n",
        "write_csv(train_set, 'train.csv')\n",
        "write_csv(val_set, 'val.csv')\n",
        "write_csv(test_set, 'test.csv')\n"
      ],
      "metadata": {
        "id": "jDSC8Y5nIE_3"
      },
      "execution_count": 4,
      "outputs": []
    },
    {
      "cell_type": "code",
      "source": [
        "def extract_features(file_path, feature_type='mfcc', win_ms=30, overlap_perc=0.25, sr=16000, n_mels=40):\n",
        "    y, sr = librosa.load(file_path, sr=sr)\n",
        "    win_len = int(sr * win_ms / 1000)\n",
        "    hop_len = int(win_len * (1 - overlap_perc))\n",
        "\n",
        "    if feature_type == 'mfcc':\n",
        "        mfcc = librosa.feature.mfcc(y=y, sr=sr, n_fft=win_len, hop_length=hop_len, n_mfcc=13)\n",
        "        return mfcc\n",
        "    elif feature_type == 'mel':\n",
        "        mel = librosa.feature.melspectrogram(y=y, sr=sr, n_fft=win_len, hop_length=hop_len, n_mels=n_mels)\n",
        "        mel_db = librosa.power_to_db(mel, ref=np.max)\n",
        "        return mel_db\n",
        "    else:\n",
        "        raise ValueError(\"Unknown feature type\")\n"
      ],
      "metadata": {
        "id": "KllswLViIE9t"
      },
      "execution_count": 5,
      "outputs": []
    },
    {
      "cell_type": "code",
      "source": [
        "label_map = {k: i for i, k in enumerate(keywords)}\n",
        "\n",
        "def load_split(csv_path, feature_type='mfcc', win_ms=30, overlap=0.25, max_frames=100):\n",
        "    X, y = [], []\n",
        "    with open(csv_path, 'r') as f:\n",
        "        reader = csv.DictReader(f)\n",
        "        for row in reader:\n",
        "            try:\n",
        "                features = extract_features(row['filepath'], feature_type, win_ms, overlap)\n",
        "                if features.shape[1] > max_frames:\n",
        "                    features = features[:, :max_frames]\n",
        "                else:\n",
        "                    pad_width = max_frames - features.shape[1]\n",
        "                    features = np.pad(features, ((0, 0), (0, pad_width)), mode='constant')\n",
        "                X.append(features)\n",
        "                y.append(label_map[row['label']])\n",
        "            except:\n",
        "                continue\n",
        "    X = np.array(X, dtype='float32')\n",
        "    y = to_categorical(y, num_classes=len(keywords))\n",
        "    return np.expand_dims(X, -1), y\n"
      ],
      "metadata": {
        "id": "GUvfsgrDIE7c"
      },
      "execution_count": 6,
      "outputs": []
    },
    {
      "cell_type": "code",
      "source": [
        "def build_model(input_shape, num_classes):\n",
        "    model = Sequential([\n",
        "        Conv2D(32, (3, 3), activation='relu', input_shape=input_shape),\n",
        "        MaxPooling2D((2, 2)),\n",
        "        Conv2D(64, (3, 3), activation='relu'),\n",
        "        MaxPooling2D((2, 2)),\n",
        "        Flatten(),\n",
        "        Dense(128, activation='relu'),\n",
        "        Dropout(0.5),\n",
        "        Dense(num_classes, activation='softmax')\n",
        "    ])\n",
        "    model.compile(optimizer='adam', loss='categorical_crossentropy', metrics=['accuracy'])\n",
        "    return model\n"
      ],
      "metadata": {
        "id": "3K4wgZkdIE5K"
      },
      "execution_count": 7,
      "outputs": []
    },
    {
      "cell_type": "code",
      "source": [
        "# Use fixed parameters\n",
        "feature_type = 'mfcc'    # Change to 'mel' if needed\n",
        "win_ms = 30\n",
        "overlap = 0.25\n",
        "\n",
        "print(f\"Training with feature={feature_type}, window={win_ms}ms, overlap={int(overlap * 100)}%\")\n",
        "\n",
        "X_train, y_train = load_split('splits/train.csv', feature_type, win_ms, overlap)\n",
        "X_val, y_val = load_split('splits/val.csv', feature_type, win_ms, overlap)\n",
        "X_test, y_test = load_split('splits/test.csv', feature_type, win_ms, overlap)\n",
        "\n",
        "model = build_model(X_train.shape[1:], y_train.shape[1])\n",
        "history = model.fit(X_train, y_train, epochs=20, batch_size=32, validation_data=(X_val, y_val), verbose=1)\n",
        "\n",
        "loss, acc = model.evaluate(X_test, y_test, verbose=1)\n",
        "print(f\"\\n✅ Final Test Accuracy: {acc:.4f}\")\n"
      ],
      "metadata": {
        "colab": {
          "base_uri": "https://localhost:8080/"
        },
        "id": "aYDMBsWrIE3N",
        "outputId": "99f4a4e6-a06e-4a00-f412-4df9745ef827"
      },
      "execution_count": 8,
      "outputs": [
        {
          "output_type": "stream",
          "name": "stdout",
          "text": [
            "Training with feature=mfcc, window=30ms, overlap=25%\n"
          ]
        },
        {
          "output_type": "stream",
          "name": "stderr",
          "text": [
            "/usr/local/lib/python3.11/dist-packages/keras/src/layers/convolutional/base_conv.py:107: UserWarning: Do not pass an `input_shape`/`input_dim` argument to a layer. When using Sequential models, prefer using an `Input(shape)` object as the first layer in the model instead.\n",
            "  super().__init__(activity_regularizer=activity_regularizer, **kwargs)\n"
          ]
        },
        {
          "output_type": "stream",
          "name": "stdout",
          "text": [
            "Epoch 1/20\n",
            "\u001b[1m771/771\u001b[0m \u001b[32m━━━━━━━━━━━━━━━━━━━━\u001b[0m\u001b[37m\u001b[0m \u001b[1m11s\u001b[0m 7ms/step - accuracy: 0.1616 - loss: 4.1815 - val_accuracy: 0.6078 - val_loss: 1.1050\n",
            "Epoch 2/20\n",
            "\u001b[1m771/771\u001b[0m \u001b[32m━━━━━━━━━━━━━━━━━━━━\u001b[0m\u001b[37m\u001b[0m \u001b[1m3s\u001b[0m 4ms/step - accuracy: 0.6006 - loss: 1.1348 - val_accuracy: 0.7370 - val_loss: 0.7543\n",
            "Epoch 3/20\n",
            "\u001b[1m771/771\u001b[0m \u001b[32m━━━━━━━━━━━━━━━━━━━━\u001b[0m\u001b[37m\u001b[0m \u001b[1m5s\u001b[0m 4ms/step - accuracy: 0.7442 - loss: 0.7336 - val_accuracy: 0.8131 - val_loss: 0.5422\n",
            "Epoch 4/20\n",
            "\u001b[1m771/771\u001b[0m \u001b[32m━━━━━━━━━━━━━━━━━━━━\u001b[0m\u001b[37m\u001b[0m \u001b[1m5s\u001b[0m 4ms/step - accuracy: 0.8005 - loss: 0.5828 - val_accuracy: 0.8406 - val_loss: 0.4753\n",
            "Epoch 5/20\n",
            "\u001b[1m771/771\u001b[0m \u001b[32m━━━━━━━━━━━━━━━━━━━━\u001b[0m\u001b[37m\u001b[0m \u001b[1m4s\u001b[0m 5ms/step - accuracy: 0.8247 - loss: 0.5130 - val_accuracy: 0.8611 - val_loss: 0.4229\n",
            "Epoch 6/20\n",
            "\u001b[1m771/771\u001b[0m \u001b[32m━━━━━━━━━━━━━━━━━━━━\u001b[0m\u001b[37m\u001b[0m \u001b[1m4s\u001b[0m 4ms/step - accuracy: 0.8534 - loss: 0.4343 - val_accuracy: 0.8658 - val_loss: 0.3961\n",
            "Epoch 7/20\n",
            "\u001b[1m771/771\u001b[0m \u001b[32m━━━━━━━━━━━━━━━━━━━━\u001b[0m\u001b[37m\u001b[0m \u001b[1m5s\u001b[0m 4ms/step - accuracy: 0.8653 - loss: 0.4013 - val_accuracy: 0.8781 - val_loss: 0.3632\n",
            "Epoch 8/20\n",
            "\u001b[1m771/771\u001b[0m \u001b[32m━━━━━━━━━━━━━━━━━━━━\u001b[0m\u001b[37m\u001b[0m \u001b[1m5s\u001b[0m 4ms/step - accuracy: 0.8798 - loss: 0.3615 - val_accuracy: 0.8915 - val_loss: 0.3343\n",
            "Epoch 9/20\n",
            "\u001b[1m771/771\u001b[0m \u001b[32m━━━━━━━━━━━━━━━━━━━━\u001b[0m\u001b[37m\u001b[0m \u001b[1m3s\u001b[0m 4ms/step - accuracy: 0.8857 - loss: 0.3428 - val_accuracy: 0.8693 - val_loss: 0.4336\n",
            "Epoch 10/20\n",
            "\u001b[1m771/771\u001b[0m \u001b[32m━━━━━━━━━━━━━━━━━━━━\u001b[0m\u001b[37m\u001b[0m \u001b[1m6s\u001b[0m 5ms/step - accuracy: 0.8884 - loss: 0.3370 - val_accuracy: 0.8839 - val_loss: 0.3729\n",
            "Epoch 11/20\n",
            "\u001b[1m771/771\u001b[0m \u001b[32m━━━━━━━━━━━━━━━━━━━━\u001b[0m\u001b[37m\u001b[0m \u001b[1m3s\u001b[0m 4ms/step - accuracy: 0.8905 - loss: 0.3152 - val_accuracy: 0.8854 - val_loss: 0.3636\n",
            "Epoch 12/20\n",
            "\u001b[1m771/771\u001b[0m \u001b[32m━━━━━━━━━━━━━━━━━━━━\u001b[0m\u001b[37m\u001b[0m \u001b[1m5s\u001b[0m 4ms/step - accuracy: 0.9033 - loss: 0.2906 - val_accuracy: 0.8928 - val_loss: 0.3507\n",
            "Epoch 13/20\n",
            "\u001b[1m771/771\u001b[0m \u001b[32m━━━━━━━━━━━━━━━━━━━━\u001b[0m\u001b[37m\u001b[0m \u001b[1m4s\u001b[0m 5ms/step - accuracy: 0.9018 - loss: 0.2959 - val_accuracy: 0.8935 - val_loss: 0.3586\n",
            "Epoch 14/20\n",
            "\u001b[1m771/771\u001b[0m \u001b[32m━━━━━━━━━━━━━━━━━━━━\u001b[0m\u001b[37m\u001b[0m \u001b[1m3s\u001b[0m 4ms/step - accuracy: 0.9036 - loss: 0.2849 - val_accuracy: 0.8912 - val_loss: 0.3679\n",
            "Epoch 15/20\n",
            "\u001b[1m771/771\u001b[0m \u001b[32m━━━━━━━━━━━━━━━━━━━━\u001b[0m\u001b[37m\u001b[0m \u001b[1m3s\u001b[0m 4ms/step - accuracy: 0.9010 - loss: 0.2886 - val_accuracy: 0.8972 - val_loss: 0.3507\n",
            "Epoch 16/20\n",
            "\u001b[1m771/771\u001b[0m \u001b[32m━━━━━━━━━━━━━━━━━━━━\u001b[0m\u001b[37m\u001b[0m \u001b[1m3s\u001b[0m 4ms/step - accuracy: 0.9119 - loss: 0.2576 - val_accuracy: 0.8943 - val_loss: 0.3513\n",
            "Epoch 17/20\n",
            "\u001b[1m771/771\u001b[0m \u001b[32m━━━━━━━━━━━━━━━━━━━━\u001b[0m\u001b[37m\u001b[0m \u001b[1m4s\u001b[0m 5ms/step - accuracy: 0.9131 - loss: 0.2551 - val_accuracy: 0.8930 - val_loss: 0.3830\n",
            "Epoch 18/20\n",
            "\u001b[1m771/771\u001b[0m \u001b[32m━━━━━━━━━━━━━━━━━━━━\u001b[0m\u001b[37m\u001b[0m \u001b[1m3s\u001b[0m 4ms/step - accuracy: 0.9109 - loss: 0.2585 - val_accuracy: 0.8909 - val_loss: 0.3751\n",
            "Epoch 19/20\n",
            "\u001b[1m771/771\u001b[0m \u001b[32m━━━━━━━━━━━━━━━━━━━━\u001b[0m\u001b[37m\u001b[0m \u001b[1m3s\u001b[0m 4ms/step - accuracy: 0.9204 - loss: 0.2296 - val_accuracy: 0.8954 - val_loss: 0.3898\n",
            "Epoch 20/20\n",
            "\u001b[1m771/771\u001b[0m \u001b[32m━━━━━━━━━━━━━━━━━━━━\u001b[0m\u001b[37m\u001b[0m \u001b[1m6s\u001b[0m 5ms/step - accuracy: 0.9189 - loss: 0.2398 - val_accuracy: 0.8873 - val_loss: 0.4003\n",
            "\u001b[1m241/241\u001b[0m \u001b[32m━━━━━━━━━━━━━━━━━━━━\u001b[0m\u001b[37m\u001b[0m \u001b[1m1s\u001b[0m 4ms/step - accuracy: 0.8881 - loss: 0.3902\n",
            "\n",
            "✅ Final Test Accuracy: 0.8881\n"
          ]
        }
      ]
    },
    {
      "cell_type": "code",
      "source": [
        "model_dir = \"trained_model\"\n",
        "os.makedirs(model_dir, exist_ok=True)\n",
        "model_path = os.path.join(model_dir, f\"keyword_spotting_{feature_type}_{win_ms}ms_{int(overlap * 100)}ol.h5\")\n",
        "model.save(model_path)\n",
        "print(f\"✅ Model saved to: {model_path}\")\n"
      ],
      "metadata": {
        "colab": {
          "base_uri": "https://localhost:8080/"
        },
        "id": "6VJwKeBRIE1L",
        "outputId": "5d37bcbc-1212-4692-95a2-14e5f32a9e52"
      },
      "execution_count": 9,
      "outputs": [
        {
          "output_type": "stream",
          "name": "stderr",
          "text": [
            "WARNING:absl:You are saving your model as an HDF5 file via `model.save()` or `keras.saving.save_model(model)`. This file format is considered legacy. We recommend using instead the native Keras format, e.g. `model.save('my_model.keras')` or `keras.saving.save_model(model, 'my_model.keras')`. \n"
          ]
        },
        {
          "output_type": "stream",
          "name": "stdout",
          "text": [
            "✅ Model saved to: trained_model/keyword_spotting_mfcc_30ms_25ol.h5\n"
          ]
        }
      ]
    },
    {
      "cell_type": "code",
      "source": [
        "plt.figure(figsize=(12, 4))\n",
        "\n",
        "plt.subplot(1, 2, 1)\n",
        "plt.plot(history.history['accuracy'], label='Train Accuracy')\n",
        "plt.plot(history.history['val_accuracy'], label='Validation Accuracy')\n",
        "plt.title('Accuracy over Epochs')\n",
        "plt.legend()\n",
        "\n",
        "plt.subplot(1, 2, 2)\n",
        "plt.plot(history.history['loss'], label='Train Loss')\n",
        "plt.plot(history.history['val_loss'], label='Validation Loss')\n",
        "plt.title('Loss over Epochs')\n",
        "plt.legend()\n",
        "\n",
        "plt.tight_layout()\n",
        "plt.show()\n"
      ],
      "metadata": {
        "colab": {
          "base_uri": "https://localhost:8080/",
          "height": 407
        },
        "id": "pjKYcgrVIEzJ",
        "outputId": "74d278a5-cab9-4003-cdd4-436a57d3a186"
      },
      "execution_count": 10,
      "outputs": [
        {
          "output_type": "display_data",
          "data": {
            "text/plain": [
              "<Figure size 1200x400 with 2 Axes>"
            ],
            "image/png": "[encoded data removed]"
          },
          "metadata": {}
        }
      ]
    }
  ]
}